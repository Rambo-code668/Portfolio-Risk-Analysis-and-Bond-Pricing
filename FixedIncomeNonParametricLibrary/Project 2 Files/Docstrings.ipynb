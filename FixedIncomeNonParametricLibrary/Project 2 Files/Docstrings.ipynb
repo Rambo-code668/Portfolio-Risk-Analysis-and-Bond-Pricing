{
 "cells": [
  {
   "cell_type": "markdown",
   "metadata": {},
   "source": [
    "$$Module Overview$$\n",
    "\n",
    "Module Name: non_parametric_fixed_income.py\n",
    "\n",
    "Purpose:\n",
    "Provide classes and methods to compute non‑parametric risk measures such as Value at Risk (VaR) and Expected Shortfall (ES) using quantile, bootstrap, and Extreme Value Theory (EVT) approaches."
   ]
  },
  {
   "cell_type": "markdown",
   "metadata": {},
   "source": [
    "**Class: FixedIncomeNprmSingle**\n",
    "\n",
    "This class computes VaR and ES for a single fixed‑income security based on historical returns.\n",
    "\n",
    "__init__(self, returns, position, alpha=0.05, method=\"quantile\", n_bootstrap_samples=10000)"
   ]
  },
  {
   "cell_type": "code",
   "execution_count": null,
   "metadata": {
    "vscode": {
     "languageId": "plaintext"
    }
   },
   "outputs": [],
   "source": [
    "\"\"\"\n",
    "Initialize a FixedIncomeNprmSingle object.\n",
    "\n",
    "Parameters:\n",
    "    returns (np.ndarray): \n",
    "        Historical returns of the fixed-income security (1D numeric numpy array).\n",
    "    position (float): \n",
    "        Quantity held (positive for long positions, negative for short positions).\n",
    "    alpha (float, optional): \n",
    "        Significance level for VaR and ES (e.g., 0.05). Default is 0.05.\n",
    "    method (str, optional): \n",
    "        The calculation method to use, either \"quantile\" or \"bootstrap\". Default is \"quantile\".\n",
    "    n_bootstrap_samples (int, optional): \n",
    "        Number of bootstrap samples to use if method is \"bootstrap\". Default is 10000.\n",
    "\n",
    "Attributes:\n",
    "    returns (np.ndarray): Validated returns array.\n",
    "    position (float): The position size.\n",
    "    alpha (float): The significance level.\n",
    "    method (str): The chosen method (\"quantile\" or \"bootstrap\").\n",
    "    n_bootstrap_samples (int): Number of bootstrap iterations (if applicable).\n",
    "    var (float): Computed Value at Risk.\n",
    "    es (float): Computed Expected Shortfall.\n",
    "\n",
    "Automatically calls:\n",
    "    fit() - to compute VaR and ES upon instantiation.\n",
    "\"\"\""
   ]
  },
  {
   "cell_type": "markdown",
   "metadata": {},
   "source": [
    "fit(self)"
   ]
  },
  {
   "cell_type": "code",
   "execution_count": null,
   "metadata": {
    "vscode": {
     "languageId": "plaintext"
    }
   },
   "outputs": [],
   "source": [
    "\"\"\"\n",
    "Compute VaR and ES using the specified method.\n",
    "\n",
    "If method == \"quantile\":\n",
    "    Uses a quantile-based approach:\n",
    "        VaR = -position * Q_alpha(returns)\n",
    "        ES  = -position * E[returns | returns < Q_alpha(returns)] (for long positions)\n",
    "        (or the corresponding formula for short positions using Q_(1-alpha)).\n",
    "If method == \"bootstrap\":\n",
    "    Uses a bootstrap resampling approach to compute VaR and ES.\n",
    "\n",
    "Updates:\n",
    "    self.var and self.es with the computed risk measures.\n",
    "\"\"\""
   ]
  },
  {
   "cell_type": "markdown",
   "metadata": {},
   "source": [
    "evt(self, quantile_threshold=0.95) -> dict"
   ]
  },
  {
   "cell_type": "code",
   "execution_count": null,
   "metadata": {
    "vscode": {
     "languageId": "plaintext"
    }
   },
   "outputs": [],
   "source": [
    "\"\"\"\n",
    "Estimate VaR and ES using Extreme Value Theory (GPD).\n",
    "\n",
    "Procedure:\n",
    "1. Convert returns to losses:\n",
    "    - For long positions: losses = -returns\n",
    "    - For short positions: losses = returns\n",
    "2. Set threshold u as the quantile_threshold (e.g., 0.95) of the losses.\n",
    "3. Compute exceedances: exceedances = losses[losses > u] - u.\n",
    "4. Estimate GPD parameters (xi and beta) using maximum likelihood (minimize the negative log-likelihood).\n",
    "5. Compute EVT VaR and ES using:\n",
    "    VaR_evt = u + (beta/xi)*(((n/n_u)*(1-alpha))^(-xi) - 1)\n",
    "    ES_evt = (VaR_evt + beta - xi*u)/(1 - xi)\n",
    "6. Scale the final results by |position|.\n",
    "\n",
    "Parameters:\n",
    "    quantile_threshold (float, optional): \n",
    "        The quantile to use for setting the threshold u (default is 0.95).\n",
    "\n",
    "Returns:\n",
    "    dict: Contains keys:\n",
    "        - \"evt_var\": EVT-based VaR (float)\n",
    "        - \"evt_es\": EVT-based ES (float)\n",
    "        - \"xi\": Estimated shape parameter (float)\n",
    "        - \"beta\": Estimated scale parameter (float)\n",
    "        - \"u\": The threshold used (float)\n",
    "        - \"n\": Total number of observations (int)\n",
    "        - \"n_u\": Number of exceedances (int)\n",
    "\"\"\""
   ]
  },
  {
   "cell_type": "markdown",
   "metadata": {},
   "source": [
    "summary(self) -> dict"
   ]
  },
  {
   "cell_type": "code",
   "execution_count": null,
   "metadata": {
    "vscode": {
     "languageId": "plaintext"
    }
   },
   "outputs": [],
   "source": [
    "\"\"\"\n",
    "Return a summary of key risk metrics.\n",
    "\n",
    "For a long position:\n",
    "    maxLoss = -position * min(returns)\n",
    "For a short position:\n",
    "    maxLoss = -position * max(returns)\n",
    "\n",
    "Other metrics:\n",
    "    maxExcessLoss = maxLoss - var\n",
    "    esOverVar = es / var (if var != 0)\n",
    "    maxExcessLossOverVar = maxExcessLoss / var (if var != 0)\n",
    "\n",
    "Returns:\n",
    "    dict: Dictionary containing:\n",
    "        - \"var\": Computed Value at Risk (float)\n",
    "        - \"es\": Computed Expected Shortfall (float)\n",
    "        - \"maxLoss\": Maximum loss over the sample period (float)\n",
    "        - \"maxExcessLoss\": Difference between maxLoss and VaR (float)\n",
    "        - \"maxExcessLossOverVar\": Ratio of maxExcessLoss to VaR (float or None)\n",
    "        - \"esOverVar\": Ratio of ES to VaR (float or None)\n",
    "\"\"\""
   ]
  },
  {
   "cell_type": "markdown",
   "metadata": {},
   "source": [
    "**Class: FixedIncomeNprmPort**\n",
    "\n",
    "This class computes risk measures for a portfolio of fixed‑income positions by first aggregating the returns.\n",
    "\n",
    "__init__(self, returns, positions, alpha=0.05, method=\"quantile\", n_bootstrap_samples=10000)\n"
   ]
  },
  {
   "cell_type": "code",
   "execution_count": null,
   "metadata": {
    "vscode": {
     "languageId": "plaintext"
    }
   },
   "outputs": [],
   "source": [
    "\"\"\"\n",
    "Initialize a FixedIncomeNprmPort object for a portfolio.\n",
    "\n",
    "Parameters:\n",
    "    returns (np.ndarray):\n",
    "        2D array of historical returns (rows = periods, columns = securities).\n",
    "    positions (list of float):\n",
    "        List of positions for each security (must match the number of columns in returns).\n",
    "    alpha (float, optional):\n",
    "        Significance level for VaR/ES (default is 0.05).\n",
    "    method (str, optional):\n",
    "        Calculation method (\"quantile\" or \"bootstrap\"). Default is \"quantile\".\n",
    "    n_bootstrap_samples (int, optional):\n",
    "        Number of bootstrap samples if using the bootstrap method. Default is 10000.\n",
    "\n",
    "Attributes:\n",
    "    returns (np.ndarray): The 2D returns matrix.\n",
    "    positions (list): The list of positions.\n",
    "    alpha (float): Significance level.\n",
    "    method (str): Calculation method.\n",
    "    n_bootstrap_samples (int): Bootstrap sample count.\n",
    "    portfolio_returns (np.ndarray):\n",
    "        Aggregated portfolio returns computed as the weighted sum of each period's returns.\n",
    "    cum_returns (np.ndarray):\n",
    "        Cumulative compounded portfolio returns.\n",
    "    var (float): Computed portfolio VaR.\n",
    "    es (float): Computed portfolio ES.\n",
    "\n",
    "Automatically calls:\n",
    "    fit() - to compute risk measures upon instantiation.\n",
    "\"\"\""
   ]
  },
  {
   "cell_type": "markdown",
   "metadata": {},
   "source": [
    "fit(self)"
   ]
  },
  {
   "cell_type": "code",
   "execution_count": null,
   "metadata": {
    "vscode": {
     "languageId": "plaintext"
    }
   },
   "outputs": [],
   "source": [
    "\"\"\"\n",
    "Compute the portfolio risk measures.\n",
    "\n",
    "Procedure:\n",
    "1. Aggregate the returns:\n",
    "       portfolio_returns[t] = sum_i( positions[i] * returns[t,i] )\n",
    "2. Compute cumulative returns:\n",
    "       cum_returns[t] = product_{k=1..t}(1 + portfolio_returns[k]) - 1\n",
    "3. Based on the chosen method (\"quantile\" or \"bootstrap\"), compute portfolio VaR and ES.\n",
    "    - For a net long portfolio, use the α-quantile.\n",
    "    - For a net short portfolio, use the (1-α)-quantile.\n",
    "\n",
    "Updates:\n",
    "    self.portfolio_returns, self.cum_returns, self.var, and self.es.\n",
    "\"\"\""
   ]
  },
  {
   "cell_type": "markdown",
   "metadata": {},
   "source": [
    "marg_vars(self, scale_factor=0.1) -> list"
   ]
  },
  {
   "cell_type": "code",
   "execution_count": null,
   "metadata": {
    "vscode": {
     "languageId": "plaintext"
    }
   },
   "outputs": [],
   "source": [
    "\"\"\"\n",
    "Compute the Marginal VaR for each individual position in the portfolio.\n",
    "\n",
    "The marginal VaR for position i is approximated as:\n",
    "    MVaR_i ≈ (VaR_new - VaR_original) / scale_factor\n",
    "where VaR_new is computed after perturbing the i-th position by scale_factor.\n",
    "\n",
    "Parameters:\n",
    "    scale_factor (float, optional):\n",
    "        The small increment used to perturb each position (default is 0.1).\n",
    "\n",
    "Returns:\n",
    "    list of float:\n",
    "        A list of marginal VaR values corresponding to each position.\n",
    "        \n",
    "After computing, the original portfolio risk measures are restored.\n",
    "\"\"\""
   ]
  },
  {
   "cell_type": "markdown",
   "metadata": {},
   "source": [
    "summary(self) -> dict"
   ]
  },
  {
   "cell_type": "code",
   "execution_count": null,
   "metadata": {
    "vscode": {
     "languageId": "plaintext"
    }
   },
   "outputs": [],
   "source": [
    "\"\"\"\n",
    "Return a summary dictionary of key portfolio risk metrics.\n",
    "\n",
    "Procedure:\n",
    "- Compute the net portfolio returns and determine maxLoss:\n",
    "    For a net long portfolio: maxLoss = -sum(positions) * min(portfolio_returns)\n",
    "    For a net short portfolio: maxLoss = -sum(positions) * max(portfolio_returns)\n",
    "- Then compute:\n",
    "    maxExcessLoss = maxLoss - var\n",
    "    esOverVar = es / var if var != 0\n",
    "    maxExcessLossOverVar = maxExcessLoss / var if var != 0\n",
    "\n",
    "Returns:\n",
    "    dict:\n",
    "        {\n",
    "            \"var\": Computed portfolio VaR (float),\n",
    "            \"es\": Computed portfolio ES (float),\n",
    "            \"maxLoss\": Maximum loss (float),\n",
    "            \"maxExcessLoss\": Difference between maxLoss and VaR (float),\n",
    "            \"maxExcessLossOverVar\": Ratio (float or None),\n",
    "            \"esOverVar\": Ratio (float or None)\n",
    "        }\n",
    "\"\"\""
   ]
  }
 ],
 "metadata": {
  "language_info": {
   "name": "python"
  }
 },
 "nbformat": 4,
 "nbformat_minor": 2
}
