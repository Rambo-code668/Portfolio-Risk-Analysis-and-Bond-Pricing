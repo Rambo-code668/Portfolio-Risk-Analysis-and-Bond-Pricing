{
 "cells": [
  {
   "cell_type": "code",
   "execution_count": 8,
   "metadata": {},
   "outputs": [],
   "source": [
    "import numpy as np\n",
    "from non_parametric_fixed_income import FixedIncomeNprmSingle, FixedIncomeNprmPort"
   ]
  },
  {
   "cell_type": "code",
   "execution_count": null,
   "metadata": {},
   "outputs": [
    {
     "name": "stdout",
     "output_type": "stream",
     "text": [
      "Single Security (Quantile) VaR: 0.0182\n",
      "Single Security (Quantile) ES: 0.02\n",
      "Single Security Summary: {'var': 0.0182, 'es': 0.02, 'maxLoss': 0.02, 'maxExcessLoss': 0.0018, 'maxExcessLossOverVar': 0.0989, 'esOverVar': 1.0989}\n",
      "\n",
      "Single Security (Bootstrap) VaR: 0.016\n",
      "Single Security (Bootstrap) ES: 0.0175\n",
      "Single Security Summary (Bootstrap): {'var': 0.016, 'es': 0.0175, 'maxLoss': 0.02, 'maxExcessLoss': 0.004, 'maxExcessLossOverVar': 0.25, 'esOverVar': 1.0938}\n",
      "\n",
      "EVT results for single security: {'evt_var': 0.015, 'evt_es': 0.0166, 'xi': 0.1, 'beta': 0.0017500000000000016, 'u': 0.01825, 'n': 8, 'n_u': 1}\n"
     ]
    }
   ],
   "source": [
    "# --- Single Fixed-Income Security ---\n",
    "\n",
    "# 1) Create synthetic returns\n",
    "single_returns = np.array([-0.02, -0.015, -0.01, 0.0, 0.005, 0.01, 0.015, 0.02])\n",
    "\n",
    "# 2) Instantiate FixedIncomeNprmSingle for a long position, alpha=0.05, using quantile\n",
    "single_model = FixedIncomeNprmSingle(returns=single_returns, position=1, alpha=0.05, method=\"quantile\")\n",
    "\n",
    "print(\"Single Security (Quantile) VaR:\", single_model.var)\n",
    "print(\"Single Security (Quantile) ES:\", single_model.es)\n",
    "print(\"Single Security Summary:\", single_model.summary())\n",
    "\n",
    "# 3) Try bootstrap\n",
    "single_model_bootstrap = FixedIncomeNprmSingle(\n",
    "    returns=single_returns,\n",
    "    position=1,\n",
    "    alpha=0.05,\n",
    "    method=\"bootstrap\",\n",
    "    n_bootstrap_samples=10000\n",
    ")\n",
    "print(\"\\nSingle Security (Bootstrap) VaR:\", single_model_bootstrap.var)\n",
    "print(\"Single Security (Bootstrap) ES:\", single_model_bootstrap.es)\n",
    "print(\"Single Security Summary (Bootstrap):\", single_model_bootstrap.summary())\n",
    "\n",
    "# 4) EVT\n",
    "evt_results = single_model.evt(quantile_threshold=0.95)\n",
    "print(\"\\nEVT results for single security:\", evt_results)"
   ]
  },
  {
   "cell_type": "code",
   "execution_count": 10,
   "metadata": {},
   "outputs": [
    {
     "name": "stdout",
     "output_type": "stream",
     "text": [
      "\n",
      "Portfolio (Quantile) VaR: 0.0566\n",
      "Portfolio (Quantile) ES: 0.065\n",
      "Portfolio Summary: {'var': 0.0566, 'es': 0.065, 'maxLoss': 0.13, 'maxExcessLoss': 0.0734, 'maxExcessLossOverVar': 1.2968, 'esOverVar': 1.1484}\n",
      "Portfolio Marginal VaRs: [0.006, 0.0158, -0.019]\n",
      "\n",
      "Portfolio (Bootstrap) VaR: 0.0459\n",
      "Portfolio (Bootstrap) ES: 0.0502\n",
      "Portfolio Summary (Bootstrap): {'var': 0.0459, 'es': 0.0502, 'maxLoss': 0.13, 'maxExcessLoss': 0.0841, 'maxExcessLossOverVar': 1.8322, 'esOverVar': 1.0937}\n"
     ]
    }
   ],
   "source": [
    "# --- Portfolio of Fixed-Income Securities ---\n",
    "\n",
    "# Simulate a small returns matrix (rows = time, cols = different bonds)\n",
    "portfolio_returns = np.array([\n",
    "    [0.01, -0.01, 0.003],\n",
    "    [0.02, -0.005, 0.0],\n",
    "    [-0.01, 0.001, 0.015],\n",
    "    [0.005, 0.01, -0.002],\n",
    "    [-0.005, -0.02, 0.02]\n",
    "])\n",
    "\n",
    "positions = [1, 2, -1]  # Example: two long positions, one short\n",
    "\n",
    "# 1) Instantiate the portfolio model\n",
    "portfolio_model = FixedIncomeNprmPort(\n",
    "    returns=portfolio_returns,\n",
    "    positions=positions,\n",
    "    alpha=0.05,\n",
    "    method=\"quantile\"\n",
    ")\n",
    "\n",
    "# 2) Print risk measures\n",
    "print(\"\\nPortfolio (Quantile) VaR:\", portfolio_model.var)\n",
    "print(\"Portfolio (Quantile) ES:\", portfolio_model.es)\n",
    "print(\"Portfolio Summary:\", portfolio_model.summary())\n",
    "\n",
    "# 3) Marginal VaR\n",
    "marginal = portfolio_model.marg_vars(scale_factor=0.5)\n",
    "print(\"Portfolio Marginal VaRs:\", marginal)\n",
    "\n",
    "# 4) Try bootstrap approach\n",
    "portfolio_model_bootstrap = FixedIncomeNprmPort(\n",
    "    returns=portfolio_returns,\n",
    "    positions=positions,\n",
    "    alpha=0.05,\n",
    "    method=\"bootstrap\",\n",
    "    n_bootstrap_samples=10000\n",
    ")\n",
    "print(\"\\nPortfolio (Bootstrap) VaR:\", portfolio_model_bootstrap.var)\n",
    "print(\"Portfolio (Bootstrap) ES:\", portfolio_model_bootstrap.es)\n",
    "print(\"Portfolio Summary (Bootstrap):\", portfolio_model_bootstrap.summary())"
   ]
  }
 ],
 "metadata": {
  "kernelspec": {
   "display_name": "Python 3",
   "language": "python",
   "name": "python3"
  },
  "language_info": {
   "codemirror_mode": {
    "name": "ipython",
    "version": 3
   },
   "file_extension": ".py",
   "mimetype": "text/x-python",
   "name": "python",
   "nbconvert_exporter": "python",
   "pygments_lexer": "ipython3",
   "version": "3.12.3"
  }
 },
 "nbformat": 4,
 "nbformat_minor": 2
}
